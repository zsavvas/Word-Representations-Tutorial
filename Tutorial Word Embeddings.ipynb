{
 "cells": [
  {
   "cell_type": "markdown",
   "id": "db41a643",
   "metadata": {},
   "source": [
    "# Library Imports"
   ]
  },
  {
   "cell_type": "code",
   "execution_count": 1,
   "id": "71ccc1b5",
   "metadata": {},
   "outputs": [
    {
     "name": "stdout",
     "output_type": "stream",
     "text": [
      "['fasttext-wiki-news-subwords-300', 'conceptnet-numberbatch-17-06-300', 'word2vec-ruscorpora-300', 'word2vec-google-news-300', 'glove-wiki-gigaword-50', 'glove-wiki-gigaword-100', 'glove-wiki-gigaword-200', 'glove-wiki-gigaword-300', 'glove-twitter-25', 'glove-twitter-50', 'glove-twitter-100', 'glove-twitter-200', '__testing_word2vec-matrix-synopsis']\n"
     ]
    }
   ],
   "source": [
    "import gensim # Python library for using word embedding models\n",
    "import gensim.downloader # to download pretrained models\n",
    "from sklearn.manifold import TSNE # dimensionality reduction method\n",
    "import matplotlib.pyplot as plt # for plotting\n",
    "import warnings\n",
    "import numpy as np\n",
    "import pandas as pd\n",
    "pd.set_option('display.max_colwidth', 1000)\n",
    "warnings.filterwarnings('ignore') # no warnings pls :)\n",
    "\n",
    "print(list(gensim.downloader.info()['models'].keys())) #list the pretrained models available from Gensim"
   ]
  },
  {
   "cell_type": "markdown",
   "id": "676b81e7",
   "metadata": {},
   "source": [
    "# Word2Vec"
   ]
  },
  {
   "cell_type": "code",
   "execution_count": 2,
   "id": "979089f5",
   "metadata": {},
   "outputs": [],
   "source": [
    "# lets load a pretrained Word2Vec model\n",
    "w2v = gensim.downloader.load('word2vec-google-news-300')"
   ]
  },
  {
   "cell_type": "markdown",
   "id": "bd4730f0",
   "metadata": {},
   "source": [
    "Having loaded a Word2vec model we are gonna go through some of the basic functionalities:\n",
    "1. Given a word, extract its vector\n",
    "2. Given a word, extract its most similar words\n",
    "3. Demonstrate relationships between word embeddings\n",
    "4. Visualize embeddings in a 2D space"
   ]
  },
  {
   "cell_type": "markdown",
   "id": "bd301e0d",
   "metadata": {},
   "source": [
    "## 1. Extracting word vectors"
   ]
  },
  {
   "cell_type": "code",
   "execution_count": 3,
   "id": "2518f0c7",
   "metadata": {},
   "outputs": [
    {
     "data": {
      "text/plain": [
       "array([ 0.10205078, -0.08398438, -0.10546875,  0.09863281, -0.08935547,\n",
       "       -0.00842285, -0.09570312, -0.31835938,  0.12597656, -0.2578125 ,\n",
       "       -0.03442383, -0.31445312,  0.03808594,  0.17089844,  0.17773438,\n",
       "        0.12890625, -0.07714844,  0.01000977, -0.14648438,  0.06298828,\n",
       "        0.17480469,  0.05908203,  0.46875   , -0.09619141, -0.36328125,\n",
       "        0.08642578, -0.29101562,  0.14453125, -0.16992188, -0.07324219,\n",
       "       -0.3125    , -0.02258301,  0.00408936, -0.22558594, -0.08642578,\n",
       "       -0.16796875, -0.02600098,  0.09472656,  0.18359375,  0.08740234,\n",
       "        0.18847656, -0.16113281,  0.17285156,  0.29492188,  0.47265625,\n",
       "       -0.16796875,  0.01635742, -0.0859375 , -0.17871094, -0.01416016,\n",
       "       -0.16308594,  0.08642578, -0.11621094,  0.4375    ,  0.34960938,\n",
       "       -0.07958984, -0.01904297,  0.08447266, -0.03857422, -0.6171875 ,\n",
       "        0.15917969, -0.18652344, -0.02587891,  0.00159454, -0.15429688,\n",
       "       -0.00212097, -0.02441406,  0.06738281,  0.26367188,  0.2421875 ,\n",
       "       -0.171875  ,  0.37695312,  0.02807617,  0.04858398, -0.11474609,\n",
       "       -0.07421875, -0.13574219, -0.06787109,  0.21289062,  0.01794434,\n",
       "       -0.1484375 ,  0.34179688,  0.20605469, -0.30664062,  0.46679688,\n",
       "       -0.13964844, -0.02050781,  0.22070312,  0.01409912,  0.14355469,\n",
       "       -0.13574219,  0.09423828,  0.00717163, -0.31445312, -0.27929688,\n",
       "        0.31835938, -0.01086426, -0.24121094,  0.32617188,  0.16015625,\n",
       "       -0.08398438, -0.10791016, -0.04003906, -0.22265625,  0.09716797,\n",
       "       -0.04589844, -0.23144531, -0.09472656,  0.41796875,  0.04418945,\n",
       "       -0.45507812, -0.13183594, -0.04052734, -0.09423828,  0.24414062,\n",
       "       -0.08447266,  0.02648926, -0.06738281,  0.31640625,  0.16601562,\n",
       "        0.1328125 , -0.265625  , -0.47460938, -0.11572266,  0.29296875,\n",
       "       -0.11621094,  0.03881836,  0.12207031,  0.09863281, -0.14160156,\n",
       "       -0.43359375,  0.01409912, -0.29492188,  0.09228516, -0.15136719,\n",
       "       -0.02819824,  0.04858398,  0.11523438, -0.18554688, -0.08642578,\n",
       "        0.42773438,  0.03295898,  0.05883789, -0.49804688,  0.08105469,\n",
       "        0.08789062, -0.07763672, -0.07910156,  0.02807617, -0.31054688,\n",
       "        0.04003906,  0.22949219, -0.10644531, -0.14746094, -0.10791016,\n",
       "       -0.11181641,  0.08886719, -0.33203125,  0.11962891, -0.15039062,\n",
       "       -0.34765625,  0.30859375, -0.17675781,  0.30273438, -0.2734375 ,\n",
       "       -0.15234375,  0.06030273,  0.07763672, -0.25390625,  0.31640625,\n",
       "        0.10107422,  0.31640625,  0.09423828,  0.08105469, -0.06640625,\n",
       "        0.08886719,  0.02746582, -0.16699219,  0.14648438, -0.12207031,\n",
       "       -0.08056641,  0.09130859,  0.13964844,  0.05957031,  0.22558594,\n",
       "        0.02307129, -0.35742188,  0.19433594,  0.05175781, -0.19238281,\n",
       "        0.18164062,  0.28515625, -0.19628906, -0.13378906,  0.24023438,\n",
       "        0.31445312, -0.24023438,  0.11865234, -0.06152344, -0.15820312,\n",
       "        0.12304688,  0.26953125, -0.02722168,  0.24707031,  0.15136719,\n",
       "       -0.03112793, -0.05297852,  0.13867188, -0.11914062,  0.15136719,\n",
       "        0.08544922,  0.36132812, -0.0027771 , -0.36914062, -0.2109375 ,\n",
       "       -0.04492188,  0.10595703, -0.03491211, -0.28125   , -0.24414062,\n",
       "       -0.03112793,  0.12890625, -0.16992188,  0.05932617, -0.05151367,\n",
       "       -0.3828125 , -0.13378906,  0.13867188, -0.07177734,  0.10546875,\n",
       "        0.08251953,  0.3203125 , -0.06835938, -0.21484375,  0.40429688,\n",
       "       -0.359375  ,  0.10644531, -0.21191406,  0.10888672,  0.16992188,\n",
       "        0.14355469,  0.07617188, -0.03735352, -0.23535156, -0.0612793 ,\n",
       "       -0.03417969,  0.3203125 ,  0.24804688, -0.18457031, -0.3125    ,\n",
       "        0.01989746,  0.21386719,  0.02941895,  0.34765625,  0.4375    ,\n",
       "       -0.17285156, -0.01470947,  0.35742188, -0.296875  , -0.29492188,\n",
       "        0.08837891, -0.00860596,  0.18457031,  0.21289062, -0.125     ,\n",
       "       -0.13183594, -0.25195312, -0.07080078,  0.08105469, -0.06152344,\n",
       "        0.03051758,  0.26953125, -0.02355957, -0.390625  ,  0.1015625 ,\n",
       "       -0.04223633,  0.05737305, -0.07080078,  0.35351562,  0.45117188,\n",
       "        0.12792969,  0.04150391, -0.20410156,  0.00982666,  0.17382812,\n",
       "        0.29492188, -0.34960938,  0.5625    ,  0.38476562,  0.12792969,\n",
       "        0.4453125 ,  0.32226562,  0.10693359, -0.12304688, -0.07421875,\n",
       "       -0.5859375 ,  0.41992188, -0.15820312, -0.27734375, -0.3828125 ],\n",
       "      dtype=float32)"
      ]
     },
     "execution_count": 3,
     "metadata": {},
     "output_type": "execute_result"
    }
   ],
   "source": [
    "# getting a vector for a specific word\n",
    "w2v.get_vector('twitter')"
   ]
  },
  {
   "cell_type": "code",
   "execution_count": 4,
   "id": "945cb8c6",
   "metadata": {},
   "outputs": [
    {
     "data": {
      "text/plain": [
       "array([ 0.10205078, -0.08398438, -0.10546875,  0.09863281, -0.08935547,\n",
       "       -0.00842285, -0.09570312, -0.31835938,  0.12597656, -0.2578125 ,\n",
       "       -0.03442383, -0.31445312,  0.03808594,  0.17089844,  0.17773438,\n",
       "        0.12890625, -0.07714844,  0.01000977, -0.14648438,  0.06298828,\n",
       "        0.17480469,  0.05908203,  0.46875   , -0.09619141, -0.36328125,\n",
       "        0.08642578, -0.29101562,  0.14453125, -0.16992188, -0.07324219,\n",
       "       -0.3125    , -0.02258301,  0.00408936, -0.22558594, -0.08642578,\n",
       "       -0.16796875, -0.02600098,  0.09472656,  0.18359375,  0.08740234,\n",
       "        0.18847656, -0.16113281,  0.17285156,  0.29492188,  0.47265625,\n",
       "       -0.16796875,  0.01635742, -0.0859375 , -0.17871094, -0.01416016,\n",
       "       -0.16308594,  0.08642578, -0.11621094,  0.4375    ,  0.34960938,\n",
       "       -0.07958984, -0.01904297,  0.08447266, -0.03857422, -0.6171875 ,\n",
       "        0.15917969, -0.18652344, -0.02587891,  0.00159454, -0.15429688,\n",
       "       -0.00212097, -0.02441406,  0.06738281,  0.26367188,  0.2421875 ,\n",
       "       -0.171875  ,  0.37695312,  0.02807617,  0.04858398, -0.11474609,\n",
       "       -0.07421875, -0.13574219, -0.06787109,  0.21289062,  0.01794434,\n",
       "       -0.1484375 ,  0.34179688,  0.20605469, -0.30664062,  0.46679688,\n",
       "       -0.13964844, -0.02050781,  0.22070312,  0.01409912,  0.14355469,\n",
       "       -0.13574219,  0.09423828,  0.00717163, -0.31445312, -0.27929688,\n",
       "        0.31835938, -0.01086426, -0.24121094,  0.32617188,  0.16015625,\n",
       "       -0.08398438, -0.10791016, -0.04003906, -0.22265625,  0.09716797,\n",
       "       -0.04589844, -0.23144531, -0.09472656,  0.41796875,  0.04418945,\n",
       "       -0.45507812, -0.13183594, -0.04052734, -0.09423828,  0.24414062,\n",
       "       -0.08447266,  0.02648926, -0.06738281,  0.31640625,  0.16601562,\n",
       "        0.1328125 , -0.265625  , -0.47460938, -0.11572266,  0.29296875,\n",
       "       -0.11621094,  0.03881836,  0.12207031,  0.09863281, -0.14160156,\n",
       "       -0.43359375,  0.01409912, -0.29492188,  0.09228516, -0.15136719,\n",
       "       -0.02819824,  0.04858398,  0.11523438, -0.18554688, -0.08642578,\n",
       "        0.42773438,  0.03295898,  0.05883789, -0.49804688,  0.08105469,\n",
       "        0.08789062, -0.07763672, -0.07910156,  0.02807617, -0.31054688,\n",
       "        0.04003906,  0.22949219, -0.10644531, -0.14746094, -0.10791016,\n",
       "       -0.11181641,  0.08886719, -0.33203125,  0.11962891, -0.15039062,\n",
       "       -0.34765625,  0.30859375, -0.17675781,  0.30273438, -0.2734375 ,\n",
       "       -0.15234375,  0.06030273,  0.07763672, -0.25390625,  0.31640625,\n",
       "        0.10107422,  0.31640625,  0.09423828,  0.08105469, -0.06640625,\n",
       "        0.08886719,  0.02746582, -0.16699219,  0.14648438, -0.12207031,\n",
       "       -0.08056641,  0.09130859,  0.13964844,  0.05957031,  0.22558594,\n",
       "        0.02307129, -0.35742188,  0.19433594,  0.05175781, -0.19238281,\n",
       "        0.18164062,  0.28515625, -0.19628906, -0.13378906,  0.24023438,\n",
       "        0.31445312, -0.24023438,  0.11865234, -0.06152344, -0.15820312,\n",
       "        0.12304688,  0.26953125, -0.02722168,  0.24707031,  0.15136719,\n",
       "       -0.03112793, -0.05297852,  0.13867188, -0.11914062,  0.15136719,\n",
       "        0.08544922,  0.36132812, -0.0027771 , -0.36914062, -0.2109375 ,\n",
       "       -0.04492188,  0.10595703, -0.03491211, -0.28125   , -0.24414062,\n",
       "       -0.03112793,  0.12890625, -0.16992188,  0.05932617, -0.05151367,\n",
       "       -0.3828125 , -0.13378906,  0.13867188, -0.07177734,  0.10546875,\n",
       "        0.08251953,  0.3203125 , -0.06835938, -0.21484375,  0.40429688,\n",
       "       -0.359375  ,  0.10644531, -0.21191406,  0.10888672,  0.16992188,\n",
       "        0.14355469,  0.07617188, -0.03735352, -0.23535156, -0.0612793 ,\n",
       "       -0.03417969,  0.3203125 ,  0.24804688, -0.18457031, -0.3125    ,\n",
       "        0.01989746,  0.21386719,  0.02941895,  0.34765625,  0.4375    ,\n",
       "       -0.17285156, -0.01470947,  0.35742188, -0.296875  , -0.29492188,\n",
       "        0.08837891, -0.00860596,  0.18457031,  0.21289062, -0.125     ,\n",
       "       -0.13183594, -0.25195312, -0.07080078,  0.08105469, -0.06152344,\n",
       "        0.03051758,  0.26953125, -0.02355957, -0.390625  ,  0.1015625 ,\n",
       "       -0.04223633,  0.05737305, -0.07080078,  0.35351562,  0.45117188,\n",
       "        0.12792969,  0.04150391, -0.20410156,  0.00982666,  0.17382812,\n",
       "        0.29492188, -0.34960938,  0.5625    ,  0.38476562,  0.12792969,\n",
       "        0.4453125 ,  0.32226562,  0.10693359, -0.12304688, -0.07421875,\n",
       "       -0.5859375 ,  0.41992188, -0.15820312, -0.27734375, -0.3828125 ],\n",
       "      dtype=float32)"
      ]
     },
     "execution_count": 4,
     "metadata": {},
     "output_type": "execute_result"
    }
   ],
   "source": [
    "# or simply\n",
    "w2v['twitter']"
   ]
  },
  {
   "cell_type": "markdown",
   "id": "2827f358",
   "metadata": {},
   "source": [
    "## 2. Extracting word similarities"
   ]
  },
  {
   "cell_type": "code",
   "execution_count": 5,
   "id": "bec4f277",
   "metadata": {},
   "outputs": [
    {
     "data": {
      "text/plain": [
       "[('Twitter', 0.8908904194831848),\n",
       " ('Twitter.com', 0.7536780834197998),\n",
       " ('tweet', 0.7431627511978149),\n",
       " ('tweeting', 0.7161932587623596),\n",
       " ('tweeted', 0.7137226462364197),\n",
       " ('facebook', 0.6988551616668701),\n",
       " ('tweets', 0.6974530220031738),\n",
       " ('Tweeted', 0.6950210332870483),\n",
       " ('Tweet', 0.6875007152557373),\n",
       " ('Tweeting', 0.6845167279243469)]"
      ]
     },
     "execution_count": 5,
     "metadata": {},
     "output_type": "execute_result"
    }
   ],
   "source": [
    "# getting the most similar words to a term\n",
    "w2v.most_similar('twitter')"
   ]
  },
  {
   "cell_type": "code",
   "execution_count": 6,
   "id": "2f07db27",
   "metadata": {},
   "outputs": [
    {
     "data": {
      "text/plain": [
       "[('Twitter', 0.8908904194831848),\n",
       " ('Twitter.com', 0.7536780834197998),\n",
       " ('tweet', 0.7431627511978149),\n",
       " ('tweeting', 0.7161932587623596),\n",
       " ('tweeted', 0.7137226462364197),\n",
       " ('facebook', 0.6988551616668701),\n",
       " ('tweets', 0.6974530220031738),\n",
       " ('Tweeted', 0.6950210332870483),\n",
       " ('Tweet', 0.6875007152557373),\n",
       " ('Tweeting', 0.6845167279243469),\n",
       " ('Tweets', 0.6546129584312439),\n",
       " ('Facebook', 0.6483454704284668),\n",
       " ('TwitterTwitter', 0.6432195901870728),\n",
       " ('twittered', 0.6393427848815918),\n",
       " ('micro_blogging_site', 0.6302406787872314),\n",
       " ('Twitters', 0.62877357006073),\n",
       " ('twitterverse', 0.6279213428497314),\n",
       " ('blog', 0.6257337927818298),\n",
       " ('Follow_AndroidGuys', 0.6226419806480408),\n",
       " ('onTwitter', 0.6222246289253235)]"
      ]
     },
     "execution_count": 6,
     "metadata": {},
     "output_type": "execute_result"
    }
   ],
   "source": [
    "# getting the most similar words to a term\n",
    "w2v.most_similar('twitter', topn=20)"
   ]
  },
  {
   "cell_type": "code",
   "execution_count": 7,
   "id": "a156c01a",
   "metadata": {},
   "outputs": [
    {
     "data": {
      "text/plain": [
       "0.34480923"
      ]
     },
     "execution_count": 7,
     "metadata": {},
     "output_type": "execute_result"
    }
   ],
   "source": [
    "w2v.similarity('twitter', '4chan')"
   ]
  },
  {
   "cell_type": "code",
   "execution_count": 8,
   "id": "0f29f383",
   "metadata": {},
   "outputs": [
    {
     "data": {
      "text/plain": [
       "0.5744767"
      ]
     },
     "execution_count": 8,
     "metadata": {},
     "output_type": "execute_result"
    }
   ],
   "source": [
    "w2v.similarity('twitter', 'myspace')"
   ]
  },
  {
   "cell_type": "markdown",
   "id": "cd12c4d4",
   "metadata": {},
   "source": [
    "## 3. Word Relationships"
   ]
  },
  {
   "cell_type": "markdown",
   "id": "1dd083b4",
   "metadata": {},
   "source": [
    "There are two ways to study relationships:\n",
    "1. Using **most_similar_cosmul** method:\n",
    "    \n",
    "    Documentation: Find the top-N most similar words, using the multiplicative combination objective, proposed by Omer Levy and Yoav Goldberg “Linguistic Regularities in Sparse and Explicit Word Representations”. Positive words still contribute positively towards the similarity, negative words negatively, but with less susceptibility to one large distance dominating the calculation. In the common analogy-solving case, of two positive and one negative examples, this method is equivalent to the “3CosMul” objective (equation (4)) of Levy and Goldberg.\n",
    "\n",
    "\n",
    "\n",
    "2. Using **similar_by_vector** method and doing the operations manually: Different results because of normalization "
   ]
  },
  {
   "cell_type": "code",
   "execution_count": 9,
   "id": "2bd07f71",
   "metadata": {},
   "outputs": [
    {
     "data": {
      "text/plain": [
       "[('queen', 0.9314123392105103),\n",
       " ('monarch', 0.858533501625061),\n",
       " ('princess', 0.8476566672325134),\n",
       " ('Queen_Consort', 0.8150269985198975),\n",
       " ('queens', 0.8099815249443054),\n",
       " ('crown_prince', 0.808997631072998),\n",
       " ('royal_palace', 0.8027306795120239),\n",
       " ('monarchy', 0.8019613027572632),\n",
       " ('prince', 0.800979733467102),\n",
       " ('empress', 0.7958388328552246)]"
      ]
     },
     "execution_count": 9,
     "metadata": {},
     "output_type": "execute_result"
    }
   ],
   "source": [
    "w2v.most_similar_cosmul(positive=['king', 'woman'], negative=['man'])"
   ]
  },
  {
   "cell_type": "code",
   "execution_count": 10,
   "id": "063d5e1d",
   "metadata": {},
   "outputs": [
    {
     "data": {
      "text/plain": [
       "[('king', 0.7992597818374634),\n",
       " ('queen', 0.7118192911148071),\n",
       " ('monarch', 0.6189674735069275),\n",
       " ('princess', 0.5902431011199951),\n",
       " ('crown_prince', 0.5499460697174072),\n",
       " ('prince', 0.5377321243286133),\n",
       " ('kings', 0.5236844420433044),\n",
       " ('Queen_Consort', 0.5235945582389832),\n",
       " ('queens', 0.5181134343147278),\n",
       " ('sultan', 0.5098593235015869)]"
      ]
     },
     "execution_count": 10,
     "metadata": {},
     "output_type": "execute_result"
    }
   ],
   "source": [
    "w2v.similar_by_vector(w2v.get_vector('king', norm=True) + \n",
    "                      w2v.get_vector('woman', norm=True) -\n",
    "                      w2v.get_vector('man', norm=True))"
   ]
  },
  {
   "cell_type": "code",
   "execution_count": 11,
   "id": "cbaacd39",
   "metadata": {},
   "outputs": [
    {
     "data": {
      "text/plain": [
       "[('athens', 0.8228010535240173),\n",
       " ('samuel', 0.8189568519592285),\n",
       " ('cro', 0.8184024691581726),\n",
       " ('caroline', 0.8162517547607422),\n",
       " ('sess', 0.816144585609436),\n",
       " ('zz', 0.8157657980918884),\n",
       " ('afta', 0.8151275515556335),\n",
       " ('tting', 0.8136284947395325),\n",
       " ('hev', 0.8132066130638123),\n",
       " ('YEO_MAN', 0.8131966590881348)]"
      ]
     },
     "execution_count": 11,
     "metadata": {},
     "output_type": "execute_result"
    }
   ],
   "source": [
    "w2v.most_similar_cosmul(positive=['greece', 'rome'], negative=['italy'])"
   ]
  },
  {
   "cell_type": "code",
   "execution_count": 12,
   "id": "e1ef5558",
   "metadata": {},
   "outputs": [
    {
     "data": {
      "text/plain": [
       "[('rome', 0.7282393574714661),\n",
       " ('greece', 0.7129800915718079),\n",
       " ('athens', 0.4865588843822479),\n",
       " ('samuel', 0.4780660569667816),\n",
       " ('cro', 0.47506487369537354),\n",
       " ('afta', 0.47211799025535583),\n",
       " ('caroline', 0.472048819065094),\n",
       " ('zz', 0.47096753120422363),\n",
       " ('holmes', 0.467720627784729),\n",
       " ('leonard', 0.4676584005355835)]"
      ]
     },
     "execution_count": 12,
     "metadata": {},
     "output_type": "execute_result"
    }
   ],
   "source": [
    "w2v.similar_by_vector(w2v.get_vector('greece', norm=True) + \n",
    "                      w2v.get_vector('rome', norm=True) -\n",
    "                      w2v.get_vector('italy', norm=True))"
   ]
  },
  {
   "cell_type": "markdown",
   "id": "0f0303f5",
   "metadata": {},
   "source": [
    "## 4. Embedding visualization "
   ]
  },
  {
   "cell_type": "code",
   "execution_count": 13,
   "id": "c6807af1",
   "metadata": {},
   "outputs": [
    {
     "data": {
      "image/png": "[encoded data removed]",
      "text/plain": [
       "<Figure size 800x800 with 1 Axes>"
      ]
     },
     "metadata": {},
     "output_type": "display_data"
    }
   ],
   "source": [
    "# method to visualize words in a 2D Space\n",
    "\n",
    "def visualize_embeddings_using_tsne(model, target_words):\n",
    "    # extract the embeddings given the target words\n",
    "    embeddings = [model[x] for x in target_words]\n",
    "\n",
    "    \n",
    "    # reduce the dimensionality of the embeddings. From 300 to 2\n",
    "    tsne_model = TSNE(perplexity=3, n_components=2, init='pca', random_state=128)\n",
    "    coordinates = tsne_model.fit_transform(np.array(embeddings))\n",
    "\n",
    "    # extract the x,y coordinates from the reduced embeddings\n",
    "    x = [i[0] for i in coordinates]\n",
    "    y = [i[1] for i in coordinates]\n",
    "    \n",
    "    # plot the reducted embeddings\n",
    "    plt.figure(figsize=(8,8)) \n",
    "    for i in range(len(x)):\n",
    "        plt.scatter(x[i],y[i])\n",
    "        plt.annotate(target_words[i],\n",
    "                     xy=(x[i], y[i]),\n",
    "                     xytext=(2, 2),\n",
    "                     textcoords='offset points',\n",
    "                     ha='right',\n",
    "                     va='bottom')\n",
    "    plt.show()\n",
    "\n",
    "    \n",
    "    \n",
    "targets = [\"boy\", \"girl\", \"man\", \"woman\", \"king\", \"queen\",\n",
    "            \"rome\", \"italy\", \"paris\", \"france\" ]\n",
    "\n",
    "visualize_embeddings_using_tsne(w2v, targets)"
   ]
  },
  {
   "cell_type": "markdown",
   "id": "8d8479b9",
   "metadata": {},
   "source": [
    "# Training our own word2vec models"
   ]
  },
  {
   "cell_type": "code",
   "execution_count": 15,
   "id": "9df233f2",
   "metadata": {},
   "outputs": [
    {
     "data": {
      "text/plain": [
       "id                                                            98454970654916608\n",
       "text         Republicans and Democrats have both created our economic problems.\n",
       "isRetweet                                                                     f\n",
       "isDeleted                                                                     f\n",
       "device                                                                TweetDeck\n",
       "favorites                                                                    49\n",
       "retweets                                                                    255\n",
       "date                                                        2011-08-02 18:07:48\n",
       "isFlagged                                                                     f\n",
       "Name: 0, dtype: object"
      ]
     },
     "execution_count": 15,
     "metadata": {},
     "output_type": "execute_result"
    }
   ],
   "source": [
    "# lets try to train a model on trump tweets (dataset here: https://drive.google.com/file/d/1xRKHaP-QwACMydlDnyFPEaFdtskJuBa6/view?usp=sharing)\n",
    "tweetsdf = pd.read_csv('tweets_01-08-2021.csv') # load the tweets using Pandas\n",
    "tweetsdf.iloc[0] # lets see what its included in the dataset"
   ]
  },
  {
   "cell_type": "code",
   "execution_count": 16,
   "id": "4e446b0d-927f-44bd-89c3-c3ef18175048",
   "metadata": {},
   "outputs": [],
   "source": [
    "docs = tweetsdf['text'].tolist()"
   ]
  },
  {
   "cell_type": "markdown",
   "id": "f3161d18-8abf-413f-8bfb-95920cac0f47",
   "metadata": {},
   "source": [
    "### Preprocessing\n",
    "\n",
    "In general, performing general preprocessing on our input helps in generating higher quality embeddings. Some useful preprocessing steps:\n",
    "\n",
    "1. Make sure all the text is in lowercase\n",
    "2. Keep only latin characters (remove numbers)\n",
    "3. Remove punctuation\n",
    "4. Remove URLs\n",
    "5. Tokenize the text\n",
    "6. Remove stopwords\n"
   ]
  },
  {
   "cell_type": "code",
   "execution_count": 17,
   "id": "e004b720-0ffe-40b0-8bfb-bb0fc4bc17ba",
   "metadata": {},
   "outputs": [],
   "source": [
    "import re\n",
    "from stop_words import get_stop_words\n",
    "stop_words = get_stop_words('en')\n",
    "from nltk.corpus import stopwords\n",
    "\n",
    "preprocessed_docs = []\n",
    "for doc in docs:\n",
    "    res = doc.lower() # lowercase\n",
    "    res = re.sub(r'[^a-zA-Z ]', '', res) # remove numbers/punctuation\n",
    "    res = re.sub(r'http\\S+', '', res) # remove URLs \n",
    "    words = []\n",
    "    for word in res.split(' '): \n",
    "        if len(word)>0 and word not in stop_words:\n",
    "            words.append(word)\n",
    "    preprocessed_docs.append(words)"
   ]
  },
  {
   "cell_type": "markdown",
   "id": "95dfd9e2-cc28-4e9c-a89a-6205cae624b2",
   "metadata": {},
   "source": [
    "Lets see some examples of the preprocessed documents and their initial version"
   ]
  },
  {
   "cell_type": "code",
   "execution_count": 18,
   "id": "5e21256a-921e-4d0a-87ba-1d639f5a8639",
   "metadata": {},
   "outputs": [
    {
     "name": "stdout",
     "output_type": "stream",
     "text": [
      "Republicans and Democrats have both created our economic problems. ['republicans', 'democrats', 'created', 'economic', 'problems']\n"
     ]
    }
   ],
   "source": [
    "print(docs[0], preprocessed_docs[0])"
   ]
  },
  {
   "cell_type": "code",
   "execution_count": 19,
   "id": "8b79482d-9dee-46d5-8150-d0d984343e41",
   "metadata": {},
   "outputs": [
    {
     "name": "stdout",
     "output_type": "stream",
     "text": [
      "I was thrilled to be back in the Great city of Charlotte, North Carolina with thousands of hardworking American Patriots who love our Country, cherish our values, respect our laws, and always put AMERICA FIRST! Thank you for a wonderful evening!! #KAG2020 https://t.co/dNJZfRsl9y ['thrilled', 'back', 'great', 'city', 'charlotte', 'north', 'carolina', 'thousands', 'hardworking', 'american', 'patriots', 'love', 'country', 'cherish', 'values', 'respect', 'laws', 'always', 'put', 'america', 'first', 'thank', 'wonderful', 'evening', 'kag']\n"
     ]
    }
   ],
   "source": [
    "print(docs[1], preprocessed_docs[1])"
   ]
  },
  {
   "cell_type": "code",
   "execution_count": 20,
   "id": "38d99b0b-c26d-4cad-b930-b0f9366ebc6c",
   "metadata": {},
   "outputs": [],
   "source": [
    "# lets define the parameters of our Word2Vec model\n",
    "our_w2v_model = gensim.models.Word2Vec(sentences=preprocessed_docs,\n",
    "                                        vector_size=100, #dimensionality of the vectors\n",
    "                                        min_count=10, #Ignore all words with frequency less than this\n",
    "                                        window=5, #Size of the context window \n",
    "                                        epochs= 5, #Number of iterations over the corpus\n",
    "                                        sg=1, #Whether to use Skip-gram or CBOW (1 for skip-gram, 0 for CBOW)\n",
    "                                        workers=5, #Number of workers to train the model (faster training on multicore machines)\n",
    "                                        ) "
   ]
  },
  {
   "cell_type": "code",
   "execution_count": 21,
   "id": "7a038ae4-9713-4209-9a28-8936e739198d",
   "metadata": {},
   "outputs": [
    {
     "data": {
      "text/plain": [
       "[('clinton', 0.9072769284248352),\n",
       " ('crooked', 0.8919854760169983),\n",
       " ('dnc', 0.7696635127067566),\n",
       " ('emails', 0.7390462160110474),\n",
       " ('acid', 0.7375718951225281),\n",
       " ('clintons', 0.729702889919281),\n",
       " ('h', 0.7278409600257874),\n",
       " ('hillarys', 0.7233667969703674),\n",
       " ('washed', 0.7162141799926758),\n",
       " ('firm', 0.7098633050918579)]"
      ]
     },
     "execution_count": 21,
     "metadata": {},
     "output_type": "execute_result"
    }
   ],
   "source": [
    "our_w2v_model.wv.most_similar('hillary')"
   ]
  },
  {
   "cell_type": "code",
   "execution_count": 22,
   "id": "be8a1de1-fcfe-4149-a368-9bf6ec6425ee",
   "metadata": {},
   "outputs": [],
   "source": [
    "# having trained a model we can save it to use it later\n",
    "our_w2v_model.save('trained-models/trump-tweets.w2v')"
   ]
  },
  {
   "cell_type": "code",
   "execution_count": 23,
   "id": "82c9efb2-62fb-4696-b99a-e326ca5c8aa2",
   "metadata": {},
   "outputs": [],
   "source": [
    "# we can load a model with \n",
    "trump_model = gensim.models.Word2Vec.load('trained-models/trump-tweets.w2v')"
   ]
  },
  {
   "cell_type": "code",
   "execution_count": 24,
   "id": "62ad5300-661a-4cf1-b365-4cee8044f895",
   "metadata": {},
   "outputs": [
    {
     "data": {
      "text/plain": [
       "[('clinton', 0.9072769284248352),\n",
       " ('crooked', 0.8919854760169983),\n",
       " ('dnc', 0.7696635127067566),\n",
       " ('emails', 0.7390462160110474),\n",
       " ('acid', 0.7375718951225281),\n",
       " ('clintons', 0.729702889919281),\n",
       " ('h', 0.7278409600257874),\n",
       " ('hillarys', 0.7233667969703674),\n",
       " ('washed', 0.7162141799926758),\n",
       " ('firm', 0.7098633050918579)]"
      ]
     },
     "execution_count": 24,
     "metadata": {},
     "output_type": "execute_result"
    }
   ],
   "source": [
    "trump_model.wv.most_similar('hillary')"
   ]
  },
  {
   "cell_type": "code",
   "execution_count": 25,
   "id": "f55dceec-4462-406b-80ef-ad537382bec4",
   "metadata": {},
   "outputs": [],
   "source": [
    "# we can extract the words in the vocabulary using\n",
    "\n",
    "vocabulary_words = [key for key,value in trump_model.wv.key_to_index.items()]"
   ]
  },
  {
   "cell_type": "code",
   "execution_count": 26,
   "id": "37384d7f-35cd-4d89-8455-0bbab3c7e9ff",
   "metadata": {},
   "outputs": [
    {
     "data": {
      "text/plain": [
       "6230"
      ]
     },
     "execution_count": 26,
     "metadata": {},
     "output_type": "execute_result"
    }
   ],
   "source": [
    "len(vocabulary_words)"
   ]
  },
  {
   "cell_type": "code",
   "execution_count": 27,
   "id": "34c1680d-8813-4eae-b9f8-c24ada057303",
   "metadata": {},
   "outputs": [
    {
     "name": "stdout",
     "output_type": "stream",
     "text": [
      "First word in vocabulary: realdonaldtrump\n"
     ]
    }
   ],
   "source": [
    "print(\"First word in vocabulary: %s\" %(vocabulary_words[0]))"
   ]
  },
  {
   "cell_type": "code",
   "execution_count": 28,
   "id": "897faab8-1538-483f-8098-84ca1e4c04b2",
   "metadata": {},
   "outputs": [
    {
     "data": {
      "text/plain": [
       "10889"
      ]
     },
     "execution_count": 28,
     "metadata": {},
     "output_type": "execute_result"
    }
   ],
   "source": [
    "# finding out how many times a word appeared in the corpus\n",
    "trump_model.wv.get_vecattr('realdonaldtrump', 'count')"
   ]
  }
 ],
 "metadata": {
  "kernelspec": {
   "display_name": "Python 3 (ipykernel)",
   "language": "python",
   "name": "python3"
  },
  "language_info": {
   "codemirror_mode": {
    "name": "ipython",
    "version": 3
   },
   "file_extension": ".py",
   "mimetype": "text/x-python",
   "name": "python",
   "nbconvert_exporter": "python",
   "pygments_lexer": "ipython3",
   "version": "3.8.9"
  }
 },
 "nbformat": 4,
 "nbformat_minor": 5
}
